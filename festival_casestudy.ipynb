{
 "cells": [
  {
   "cell_type": "markdown",
   "id": "aa8ab0bb-2f69-48fc-9fbe-a2601cf69b4a",
   "metadata": {},
   "source": [
    "# Music Festival Analysis\n",
    "\n",
    "The festival organizers want to improve the festival. They wanted to understand which performance are bringing them the most profits and where they are falling short.\n",
    "Using the class_music_festival database, I will perform exploratory analysis using SQL to help the organizers get a sense of the festival's performance and answer some of the onganizer's burning questions."
   ]
  },
  {
   "cell_type": "code",
   "execution_count": 1,
   "id": "1a26ea55-09cf-452b-88e7-668b7d73fdd7",
   "metadata": {},
   "outputs": [],
   "source": [
    "%LOAD postgresql host=localhost dbname=class_music_festival -- loading database"
   ]
  },
  {
   "cell_type": "markdown",
   "id": "557b9062-1995-4638-b6fa-5d64c0e00744",
   "metadata": {},
   "source": [
    "#### The organizers had announced a giveaway for the first 10 customers. They wanted to know the attendee's names to announce the winners."
   ]
  },
  {
   "cell_type": "code",
   "execution_count": 19,
   "id": "e6ca8cfa-b939-4df9-9a81-ace943255b9e",
   "metadata": {},
   "outputs": [
    {
     "data": {
      "text/html": [
       "<table>\n",
       "<tr>\n",
       "<th>customer_name</th>\n",
       "</tr>\n",
       "<tr>\n",
       "<td>Osderbiq </td>\n",
       "</tr>\n",
       "<tr>\n",
       "<td>Logsalhet </td>\n",
       "</tr>\n",
       "<tr>\n",
       "<td>Rykcer </td>\n",
       "</tr>\n",
       "<tr>\n",
       "<td>Nercux Toc </td>\n",
       "</tr>\n",
       "<tr>\n",
       "<td>Mehex </td>\n",
       "</tr>\n",
       "<tr>\n",
       "<td>Beq </td>\n",
       "</tr>\n",
       "<tr>\n",
       "<td>Fa </td>\n",
       "</tr>\n",
       "<tr>\n",
       "<td>Diaspol </td>\n",
       "</tr>\n",
       "<tr>\n",
       "<td>Duffixav Balgab </td>\n",
       "</tr>\n",
       "<tr>\n",
       "<td>Fel Dow </td>\n",
       "</tr>\n",
       "</table>\n",
       "10 rows in set (0.00 sec)"
      ],
      "text/plain": [
       "+------------------+\n",
       "| customer_name    |\n",
       "+------------------+\n",
       "| Osderbiq         |\n",
       "+------------------+\n",
       "| Logsalhet        |\n",
       "+------------------+\n",
       "| Rykcer           |\n",
       "+------------------+\n",
       "| Nercux Toc       |\n",
       "+------------------+\n",
       "| Mehex            |\n",
       "+------------------+\n",
       "| Beq              |\n",
       "+------------------+\n",
       "| Fa               |\n",
       "+------------------+\n",
       "| Diaspol          |\n",
       "+------------------+\n",
       "| Duffixav Balgab  |\n",
       "+------------------+\n",
       "| Fel Dow          |\n",
       "+------------------+\n",
       "10 rows in set (0.00 sec)"
      ]
     },
     "execution_count": 19,
     "metadata": {},
     "output_type": "execute_result"
    }
   ],
   "source": [
    "SELECT people.name AS customer_name\n",
    "FROM people\n",
    "WHERE people.id IN (SELECT purchases.person_id\n",
    "                    FROM purchases\n",
    "                    ORDER BY purchases.date ASC\n",
    "                    LIMIT 10);"
   ]
  },
  {
   "cell_type": "markdown",
   "id": "779bce63-4b78-4c15-b33d-b6effe73dda5",
   "metadata": {},
   "source": [
    "#### When was the first ticket to a performance at the venue BMI purchased?"
   ]
  },
  {
   "cell_type": "code",
   "execution_count": 17,
   "id": "e2a5404e-9f10-447a-9d1b-cd100dd74eea",
   "metadata": {},
   "outputs": [
    {
     "data": {
      "text/html": [
       "<table>\n",
       "<tr>\n",
       "<th>date</th>\n",
       "</tr>\n",
       "<tr>\n",
       "<td>2011-01-01 07:13:51</td>\n",
       "</tr>\n",
       "</table>\n",
       "1 row in set (0.03 sec)"
      ],
      "text/plain": [
       "+---------------------+\n",
       "| date                |\n",
       "+---------------------+\n",
       "| 2011-01-01 07:13:51 |\n",
       "+---------------------+\n",
       "1 row in set (0.03 sec)"
      ]
     },
     "execution_count": 17,
     "metadata": {},
     "output_type": "execute_result"
    }
   ],
   "source": [
    "SELECT purchases.date\n",
    "FROM tickets\n",
    "  JOIN purchases\n",
    "    ON purchases.id = tickets.purchase_id\n",
    "  JOIN performances\n",
    "    ON performances.id = tickets.performance_id\n",
    "  JOIN venues\n",
    "    ON venues.id = performances.venue_id\n",
    "WHERE venues.name = 'BMI'\n",
    "ORDER BY purchases.date ASC\n",
    "LIMIT 1;"
   ]
  },
  {
   "cell_type": "markdown",
   "id": "2708243b-dc9a-40eb-a798-bc1f3601ea0e",
   "metadata": {},
   "source": [
    "#### When is the first show (band name, venue name and start time) that 'Osderbiq ' has a ticket to?"
   ]
  },
  {
   "cell_type": "code",
   "execution_count": 21,
   "id": "6589475b-3fb1-4969-a6c0-7214b6b49fea",
   "metadata": {},
   "outputs": [
    {
     "data": {
      "text/html": [
       "<table>\n",
       "<tr>\n",
       "<th>band_name</th>\n",
       "<th>venue_name</th>\n",
       "<th>start</th>\n",
       "</tr>\n",
       "<tr>\n",
       "<td>An Horse</td>\n",
       "<td>Austin Ventures</td>\n",
       "<td>2011-09-16 12:20:00</td>\n",
       "</tr>\n",
       "</table>\n",
       "1 row in set (0.02 sec)"
      ],
      "text/plain": [
       "+-----------+-----------------+---------------------+\n",
       "| band_name | venue_name      | start               |\n",
       "+-----------+-----------------+---------------------+\n",
       "| An Horse  | Austin Ventures | 2011-09-16 12:20:00 |\n",
       "+-----------+-----------------+---------------------+\n",
       "1 row in set (0.02 sec)"
      ]
     },
     "execution_count": 21,
     "metadata": {},
     "output_type": "execute_result"
    }
   ],
   "source": [
    "SELECT bands.name AS band_name, venues.name AS venue_name, performances.start\n",
    "FROM tickets\n",
    "  JOIN purchases\n",
    "    ON purchases.id = tickets.purchase_id\n",
    "  JOIN people\n",
    "    ON people.id = purchases.person_id\n",
    "  JOIN performances\n",
    "    ON performances.id = tickets.performance_id\n",
    "  JOIN venues\n",
    "    ON venues.id = performances.venue_id\n",
    "  JOIN bands\n",
    "    ON bands.id = performances.band_id\n",
    "WHERE people.name = 'Osderbiq '\n",
    "ORDER BY performances.start ASC\n",
    "LIMIT 1;"
   ]
  },
  {
   "cell_type": "markdown",
   "id": "68e3b083-1d7f-4201-b71a-5dddf2d1f95d",
   "metadata": {},
   "source": [
    "#### What is the name of the person who spent the most (and how much did they spend)?"
   ]
  },
  {
   "cell_type": "code",
   "execution_count": 24,
   "id": "5a3cdb3e-ee64-4a47-9fab-a9888594cf76",
   "metadata": {},
   "outputs": [
    {
     "data": {
      "text/html": [
       "<table>\n",
       "<tr>\n",
       "<th>id</th>\n",
       "<th>name</th>\n",
       "<th>total_spent</th>\n",
       "</tr>\n",
       "<tr>\n",
       "<td>426</td>\n",
       "<td>Vebil Miesys </td>\n",
       "<td>765</td>\n",
       "</tr>\n",
       "</table>\n",
       "1 row in set (0.07 sec)"
      ],
      "text/plain": [
       "+-----+---------------+-------------+\n",
       "| id  | name          | total_spent |\n",
       "+-----+---------------+-------------+\n",
       "| 426 | Vebil Miesys  | 765         |\n",
       "+-----+---------------+-------------+\n",
       "1 row in set (0.07 sec)"
      ]
     },
     "execution_count": 24,
     "metadata": {},
     "output_type": "execute_result"
    }
   ],
   "source": [
    "SELECT people.id, people.name, SUM(price) as total_spent\n",
    "FROM people\n",
    "  JOIN purchases\n",
    "    ON purchases.person_id = people.id\n",
    "  JOIN tickets\n",
    "    ON tickets.purchase_id = purchases.id\n",
    "GROUP BY people.id\n",
    "ORDER BY total_spent DESC\n",
    "LIMIT 1;"
   ]
  },
  {
   "cell_type": "markdown",
   "id": "31ad384f-f68f-4fd5-8e9c-91aa9f6b7ceb",
   "metadata": {},
   "source": [
    "#### What is the name of the band performing at the AMD venue that had the highest fee?"
   ]
  },
  {
   "cell_type": "code",
   "execution_count": 22,
   "id": "530d4598-bb9a-46c9-b8ae-f2e4dedcf953",
   "metadata": {},
   "outputs": [
    {
     "data": {
      "text/html": [
       "<table>\n",
       "<tr>\n",
       "<th>name</th>\n",
       "</tr>\n",
       "<tr>\n",
       "<td>Ryan Bingham & The Dead Horses</td>\n",
       "</tr>\n",
       "</table>\n",
       "1 row in set (0.00 sec)"
      ],
      "text/plain": [
       "+--------------------------------+\n",
       "| name                           |\n",
       "+--------------------------------+\n",
       "| Ryan Bingham & The Dead Horses |\n",
       "+--------------------------------+\n",
       "1 row in set (0.00 sec)"
      ]
     },
     "execution_count": 22,
     "metadata": {},
     "output_type": "execute_result"
    }
   ],
   "source": [
    "SELECT bands.name\n",
    "FROM performances\n",
    "  JOIN venues \n",
    "    ON venues.id = performances.venue_id\n",
    "  JOIN bands\n",
    "    ON bands.id = performances.band_id\n",
    "WHERE venues.name = 'AMD'\n",
    "ORDER BY fee DESC\n",
    "LIMIT 1;"
   ]
  },
  {
   "cell_type": "markdown",
   "id": "57e5286d-fdf4-4fb3-b370-605bdca90b67",
   "metadata": {},
   "source": [
    "#### How many tickets were sold for the performance that started at 2011-09-18 20:30:00?"
   ]
  },
  {
   "cell_type": "code",
   "execution_count": 23,
   "id": "d19da4ab-f016-4a22-a640-0756831d45a9",
   "metadata": {},
   "outputs": [
    {
     "data": {
      "text/html": [
       "<table>\n",
       "<tr>\n",
       "<th>count</th>\n",
       "</tr>\n",
       "<tr>\n",
       "<td>825</td>\n",
       "</tr>\n",
       "</table>\n",
       "1 row in set (0.01 sec)"
      ],
      "text/plain": [
       "+-------+\n",
       "| count |\n",
       "+-------+\n",
       "| 825   |\n",
       "+-------+\n",
       "1 row in set (0.01 sec)"
      ]
     },
     "execution_count": 23,
     "metadata": {},
     "output_type": "execute_result"
    }
   ],
   "source": [
    "SELECT COUNT(*)\n",
    "FROM tickets\n",
    "  JOIN performances\n",
    "    ON performances.id = tickets.performance_id\n",
    "WHERE performances.start = '2011-09-18 20:30:00';"
   ]
  },
  {
   "cell_type": "markdown",
   "id": "f4d657a0-cb44-4527-809f-aec538ec3573",
   "metadata": {},
   "source": [
    "#### Which bands performed at the venue with more than 2000 capacity?"
   ]
  },
  {
   "cell_type": "code",
   "execution_count": 15,
   "id": "61c5bf2a-de09-479e-937d-73340e6e4a28",
   "metadata": {},
   "outputs": [
    {
     "data": {
      "text/html": [
       "<table>\n",
       "<tr>\n",
       "<th>band_name</th>\n",
       "</tr>\n",
       "<tr>\n",
       "<td>Brady Rymer</td>\n",
       "</tr>\n",
       "<tr>\n",
       "<td>Heidi Swedberg</td>\n",
       "</tr>\n",
       "<tr>\n",
       "<td>Mariana Iranzi</td>\n",
       "</tr>\n",
       "<tr>\n",
       "<td>Peter DiStefano & Tor</td>\n",
       "</tr>\n",
       "<tr>\n",
       "<td>Quinn Sullivan</td>\n",
       "</tr>\n",
       "<tr>\n",
       "<td>Recess Monkey</td>\n",
       "</tr>\n",
       "<tr>\n",
       "<td>Sara Hickman</td>\n",
       "</tr>\n",
       "<tr>\n",
       "<td>The Q Brothers</td>\n",
       "</tr>\n",
       "<tr>\n",
       "<td>The School of Rock</td>\n",
       "</tr>\n",
       "</table>\n",
       "9 rows in set (0.00 sec)"
      ],
      "text/plain": [
       "+-----------------------+\n",
       "| band_name             |\n",
       "+-----------------------+\n",
       "| Brady Rymer           |\n",
       "+-----------------------+\n",
       "| Heidi Swedberg        |\n",
       "+-----------------------+\n",
       "| Mariana Iranzi        |\n",
       "+-----------------------+\n",
       "| Peter DiStefano & Tor |\n",
       "+-----------------------+\n",
       "| Quinn Sullivan        |\n",
       "+-----------------------+\n",
       "| Recess Monkey         |\n",
       "+-----------------------+\n",
       "| Sara Hickman          |\n",
       "+-----------------------+\n",
       "| The Q Brothers        |\n",
       "+-----------------------+\n",
       "| The School of Rock    |\n",
       "+-----------------------+\n",
       "9 rows in set (0.00 sec)"
      ]
     },
     "execution_count": 15,
     "metadata": {},
     "output_type": "execute_result"
    }
   ],
   "source": [
    "SELECT DISTINCT bands.name AS band_name\n",
    "FROM bands\n",
    "WHERE bands.id IN (SELECT performances.band_id\n",
    "                    FROM performances\n",
    "                    WHERE venue_id = (SELECT venues.id\n",
    "                                        FROM venues\n",
    "                                        WHERE venues.capacity > 2000));"
   ]
  },
  {
   "cell_type": "markdown",
   "id": "19e77b69-fdff-437c-b232-77b4bc5ab88e",
   "metadata": {},
   "source": [
    "#### Which performance and venue had the highest revenue?"
   ]
  },
  {
   "cell_type": "code",
   "execution_count": 36,
   "id": "4a904361-563c-4083-b7ce-0a28f0957014",
   "metadata": {},
   "outputs": [
    {
     "data": {
      "text/html": [
       "<table>\n",
       "<tr>\n",
       "<th>id</th>\n",
       "<th>venue_name</th>\n",
       "<th>revenue</th>\n",
       "</tr>\n",
       "<tr>\n",
       "<td>41</td>\n",
       "<td>Vista Equity</td>\n",
       "<td>57968</td>\n",
       "</tr>\n",
       "</table>\n",
       "1 row in set (0.06 sec)"
      ],
      "text/plain": [
       "+----+--------------+---------+\n",
       "| id | venue_name   | revenue |\n",
       "+----+--------------+---------+\n",
       "| 41 | Vista Equity | 57968   |\n",
       "+----+--------------+---------+\n",
       "1 row in set (0.06 sec)"
      ]
     },
     "execution_count": 36,
     "metadata": {},
     "output_type": "execute_result"
    }
   ],
   "source": [
    "SELECT performances.id, venues.name AS venue_name, SUM(price) as revenue\n",
    "FROM performances\n",
    "  JOIN tickets\n",
    "    ON tickets.performance_id = performances.id\n",
    "  JOIN venues\n",
    "    ON venues.id = performances.venue_id\n",
    "GROUP BY performances.id, venues.name\n",
    "ORDER BY revenue DESC\n",
    "LIMIT 1;"
   ]
  },
  {
   "cell_type": "markdown",
   "id": "88e99ec0-d004-4b09-9f8b-a6bab595919c",
   "metadata": {},
   "source": [
    "#### Which performance (and by which band) was the most profitable?"
   ]
  },
  {
   "cell_type": "code",
   "execution_count": 28,
   "id": "3f42e554-0ed1-4b90-98a7-ac50578f3dce",
   "metadata": {},
   "outputs": [
    {
     "data": {
      "text/html": [
       "<table>\n",
       "<tr>\n",
       "<th>id</th>\n",
       "<th>band_name</th>\n",
       "<th>profit</th>\n",
       "</tr>\n",
       "<tr>\n",
       "<td>41</td>\n",
       "<td>Preservation Hall Jazz Band and The Del McCoury Band</td>\n",
       "<td>53305</td>\n",
       "</tr>\n",
       "</table>\n",
       "1 row in set (0.15 sec)"
      ],
      "text/plain": [
       "+----+------------------------------------------------------+--------+\n",
       "| id | band_name                                            | profit |\n",
       "+----+------------------------------------------------------+--------+\n",
       "| 41 | Preservation Hall Jazz Band and The Del McCoury Band | 53305  |\n",
       "+----+------------------------------------------------------+--------+\n",
       "1 row in set (0.15 sec)"
      ]
     },
     "execution_count": 28,
     "metadata": {},
     "output_type": "execute_result"
    }
   ],
   "source": [
    "SELECT performances.id, bands.name AS band_name, (SUM(tickets.price)-SUM(DISTINCT bands.fee)) AS profit\n",
    "FROM performances\n",
    "  JOIN tickets\n",
    "    ON tickets.performance_id = performances.id\n",
    "  JOIN bands\n",
    "    ON bands.id = performances.band_id\n",
    "GROUP BY performances.id, bands.name\n",
    "ORDER BY profit DESC\n",
    "LIMIT 1;"
   ]
  },
  {
   "cell_type": "markdown",
   "id": "b994574a-0545-487d-9024-e5792a86eb14",
   "metadata": {},
   "source": [
    "#### Which band was the least profitable for the festival?"
   ]
  },
  {
   "cell_type": "code",
   "execution_count": 30,
   "id": "a8215ec7-d4f4-40b7-a9f5-7d4feaf3dc59",
   "metadata": {},
   "outputs": [
    {
     "data": {
      "text/html": [
       "<table>\n",
       "<tr>\n",
       "<th>id</th>\n",
       "<th>band_name</th>\n",
       "<th>profit</th>\n",
       "</tr>\n",
       "<tr>\n",
       "<td>87</td>\n",
       "<td>WAX</td>\n",
       "<td>2279</td>\n",
       "</tr>\n",
       "</table>\n",
       "1 row in set (0.12 sec)"
      ],
      "text/plain": [
       "+----+-----------+--------+\n",
       "| id | band_name | profit |\n",
       "+----+-----------+--------+\n",
       "| 87 | WAX       | 2279   |\n",
       "+----+-----------+--------+\n",
       "1 row in set (0.12 sec)"
      ]
     },
     "execution_count": 30,
     "metadata": {},
     "output_type": "execute_result"
    }
   ],
   "source": [
    "SELECT bands.id, bands.name AS band_name, (SUM(tickets.price)-SUM(DISTINCT bands.fee)) AS profit\n",
    "FROM bands\n",
    "    JOIN performances\n",
    "      ON bands.id = performances.band_id\n",
    "    JOIN tickets\n",
    "      ON performances.id = tickets.performance_id\n",
    "GROUP BY bands.id, bands.name\n",
    "ORDER BY profit\n",
    "LIMIT 1;"
   ]
  },
  {
   "cell_type": "markdown",
   "id": "114f42ee-6b92-447f-9557-091f5dc9ad41",
   "metadata": {},
   "source": [
    "#### Which venues were oversold and what were their capacities?"
   ]
  },
  {
   "cell_type": "code",
   "execution_count": 31,
   "id": "c302c80d-e793-43f1-8e53-eb57c7c163ac",
   "metadata": {},
   "outputs": [
    {
     "data": {
      "text/html": [
       "<table>\n",
       "<tr>\n",
       "<th>id</th>\n",
       "<th>name</th>\n",
       "<th>capacity</th>\n",
       "<th>overcapacity</th>\n",
       "</tr>\n",
       "<tr>\n",
       "<td>1</td>\n",
       "<td>AMD</td>\n",
       "<td>700</td>\n",
       "<td>164</td>\n",
       "</tr>\n",
       "<tr>\n",
       "<td>2</td>\n",
       "<td>AMD</td>\n",
       "<td>700</td>\n",
       "<td>67</td>\n",
       "</tr>\n",
       "<tr>\n",
       "<td>3</td>\n",
       "<td>AMD</td>\n",
       "<td>700</td>\n",
       "<td>120</td>\n",
       "</tr>\n",
       "<tr>\n",
       "<td>4</td>\n",
       "<td>AMD</td>\n",
       "<td>700</td>\n",
       "<td>114</td>\n",
       "</tr>\n",
       "<tr>\n",
       "<td>5</td>\n",
       "<td>AMD</td>\n",
       "<td>700</td>\n",
       "<td>116</td>\n",
       "</tr>\n",
       "<tr>\n",
       "<td>45</td>\n",
       "<td>AMD</td>\n",
       "<td>700</td>\n",
       "<td>181</td>\n",
       "</tr>\n",
       "<tr>\n",
       "<td>46</td>\n",
       "<td>AMD</td>\n",
       "<td>700</td>\n",
       "<td>110</td>\n",
       "</tr>\n",
       "<tr>\n",
       "<td>69</td>\n",
       "<td>AMD</td>\n",
       "<td>700</td>\n",
       "<td>142</td>\n",
       "</tr>\n",
       "<tr>\n",
       "<td>81</td>\n",
       "<td>AMD</td>\n",
       "<td>700</td>\n",
       "<td>105</td>\n",
       "</tr>\n",
       "<tr>\n",
       "<td>88</td>\n",
       "<td>AMD</td>\n",
       "<td>700</td>\n",
       "<td>85</td>\n",
       "</tr>\n",
       "<tr>\n",
       "<td>89</td>\n",
       "<td>AMD</td>\n",
       "<td>700</td>\n",
       "<td>138</td>\n",
       "</tr>\n",
       "<tr>\n",
       "<td>105</td>\n",
       "<td>AMD</td>\n",
       "<td>700</td>\n",
       "<td>119</td>\n",
       "</tr>\n",
       "<tr>\n",
       "<td>117</td>\n",
       "<td>AMD</td>\n",
       "<td>700</td>\n",
       "<td>108</td>\n",
       "</tr>\n",
       "<tr>\n",
       "<td>132</td>\n",
       "<td>AMD</td>\n",
       "<td>700</td>\n",
       "<td>117</td>\n",
       "</tr>\n",
       "</table>\n",
       "14 rows in set (0.39 sec)"
      ],
      "text/plain": [
       "+-----+------+----------+--------------+\n",
       "| id  | name | capacity | overcapacity |\n",
       "+-----+------+----------+--------------+\n",
       "| 1   | AMD  | 700      | 164          |\n",
       "+-----+------+----------+--------------+\n",
       "| 2   | AMD  | 700      | 67           |\n",
       "+-----+------+----------+--------------+\n",
       "| 3   | AMD  | 700      | 120          |\n",
       "+-----+------+----------+--------------+\n",
       "| 4   | AMD  | 700      | 114          |\n",
       "+-----+------+----------+--------------+\n",
       "| 5   | AMD  | 700      | 116          |\n",
       "+-----+------+----------+--------------+\n",
       "| 45  | AMD  | 700      | 181          |\n",
       "+-----+------+----------+--------------+\n",
       "| 46  | AMD  | 700      | 110          |\n",
       "+-----+------+----------+--------------+\n",
       "| 69  | AMD  | 700      | 142          |\n",
       "+-----+------+----------+--------------+\n",
       "| 81  | AMD  | 700      | 105          |\n",
       "+-----+------+----------+--------------+\n",
       "| 88  | AMD  | 700      | 85           |\n",
       "+-----+------+----------+--------------+\n",
       "| 89  | AMD  | 700      | 138          |\n",
       "+-----+------+----------+--------------+\n",
       "| 105 | AMD  | 700      | 119          |\n",
       "+-----+------+----------+--------------+\n",
       "| 117 | AMD  | 700      | 108          |\n",
       "+-----+------+----------+--------------+\n",
       "| 132 | AMD  | 700      | 117          |\n",
       "+-----+------+----------+--------------+\n",
       "14 rows in set (0.39 sec)"
      ]
     },
     "execution_count": 31,
     "metadata": {},
     "output_type": "execute_result"
    }
   ],
   "source": [
    "SELECT performances.id, venues.name, SUM(DISTINCT capacity) AS capacity, (COUNT(DISTINCT ticketnum) - SUM(DISTINCT capacity)) AS overcapacity\n",
    "FROM venues\n",
    "  JOIN performances\n",
    "    ON venues.id = performances.venue_id\n",
    "  JOIN tickets\n",
    "    ON performances.id = tickets.performance_id\n",
    "GROUP BY performances.id, venues.name\n",
    "HAVING (COUNT(DISTINCT ticketnum) - SUM(DISTINCT capacity)) > 0;"
   ]
  },
  {
   "cell_type": "markdown",
   "id": "2d769bfc-60e9-4bcf-bc30-2cf3f90c2abe",
   "metadata": {},
   "source": [
    "#### What was the total revenue from ticket sales each month?"
   ]
  },
  {
   "cell_type": "code",
   "execution_count": 32,
   "id": "0acc7fba-7f5e-47e9-9bb3-aedd47c77ec0",
   "metadata": {},
   "outputs": [
    {
     "data": {
      "text/html": [
       "<table>\n",
       "<tr>\n",
       "<th>month</th>\n",
       "<th>revenue</th>\n",
       "</tr>\n",
       "<tr>\n",
       "<td>1</td>\n",
       "<td>264510</td>\n",
       "</tr>\n",
       "<tr>\n",
       "<td>2</td>\n",
       "<td>226199</td>\n",
       "</tr>\n",
       "<tr>\n",
       "<td>3</td>\n",
       "<td>247469</td>\n",
       "</tr>\n",
       "<tr>\n",
       "<td>4</td>\n",
       "<td>254352</td>\n",
       "</tr>\n",
       "<tr>\n",
       "<td>5</td>\n",
       "<td>281448</td>\n",
       "</tr>\n",
       "<tr>\n",
       "<td>6</td>\n",
       "<td>258480</td>\n",
       "</tr>\n",
       "<tr>\n",
       "<td>7</td>\n",
       "<td>260668</td>\n",
       "</tr>\n",
       "<tr>\n",
       "<td>8</td>\n",
       "<td>263922</td>\n",
       "</tr>\n",
       "<tr>\n",
       "<td>9</td>\n",
       "<td>127317</td>\n",
       "</tr>\n",
       "</table>\n",
       "9 rows in set (0.10 sec)"
      ],
      "text/plain": [
       "+-------+---------+\n",
       "| month | revenue |\n",
       "+-------+---------+\n",
       "| 1     | 264510  |\n",
       "+-------+---------+\n",
       "| 2     | 226199  |\n",
       "+-------+---------+\n",
       "| 3     | 247469  |\n",
       "+-------+---------+\n",
       "| 4     | 254352  |\n",
       "+-------+---------+\n",
       "| 5     | 281448  |\n",
       "+-------+---------+\n",
       "| 6     | 258480  |\n",
       "+-------+---------+\n",
       "| 7     | 260668  |\n",
       "+-------+---------+\n",
       "| 8     | 263922  |\n",
       "+-------+---------+\n",
       "| 9     | 127317  |\n",
       "+-------+---------+\n",
       "9 rows in set (0.10 sec)"
      ]
     },
     "execution_count": 32,
     "metadata": {},
     "output_type": "execute_result"
    }
   ],
   "source": [
    "SELECT EXTRACT(MONTH FROM purchases.date) AS month, SUM(tickets.price) AS revenue\n",
    "FROM tickets\n",
    "  JOIN purchases\n",
    "    ON purchases.id = tickets.purchase_id\n",
    "GROUP BY month\n",
    "ORDER BY month;"
   ]
  },
  {
   "cell_type": "markdown",
   "id": "4905d96e-2bd1-4238-b4f3-f830d5a6d2b7",
   "metadata": {},
   "source": [
    "#### What was the average purchase total each month?"
   ]
  },
  {
   "cell_type": "code",
   "execution_count": 34,
   "id": "317fb662-0960-4955-aaac-c111ff3a9500",
   "metadata": {},
   "outputs": [
    {
     "data": {
      "text/html": [
       "<table>\n",
       "<tr>\n",
       "<th>month</th>\n",
       "<th>avg_purchase</th>\n",
       "</tr>\n",
       "<tr>\n",
       "<td>1</td>\n",
       "<td>201.76</td>\n",
       "</tr>\n",
       "<tr>\n",
       "<td>2</td>\n",
       "<td>203.23</td>\n",
       "</tr>\n",
       "<tr>\n",
       "<td>3</td>\n",
       "<td>204.69</td>\n",
       "</tr>\n",
       "<tr>\n",
       "<td>4</td>\n",
       "<td>202.35</td>\n",
       "</tr>\n",
       "<tr>\n",
       "<td>5</td>\n",
       "<td>207.25</td>\n",
       "</tr>\n",
       "<tr>\n",
       "<td>6</td>\n",
       "<td>203.21</td>\n",
       "</tr>\n",
       "<tr>\n",
       "<td>7</td>\n",
       "<td>196.43</td>\n",
       "</tr>\n",
       "<tr>\n",
       "<td>8</td>\n",
       "<td>205.23</td>\n",
       "</tr>\n",
       "<tr>\n",
       "<td>9</td>\n",
       "<td>200.5</td>\n",
       "</tr>\n",
       "</table>\n",
       "9 rows in set (0.16 sec)"
      ],
      "text/plain": [
       "+-------+--------------+\n",
       "| month | avg_purchase |\n",
       "+-------+--------------+\n",
       "| 1     | 201.76       |\n",
       "+-------+--------------+\n",
       "| 2     | 203.23       |\n",
       "+-------+--------------+\n",
       "| 3     | 204.69       |\n",
       "+-------+--------------+\n",
       "| 4     | 202.35       |\n",
       "+-------+--------------+\n",
       "| 5     | 207.25       |\n",
       "+-------+--------------+\n",
       "| 6     | 203.21       |\n",
       "+-------+--------------+\n",
       "| 7     | 196.43       |\n",
       "+-------+--------------+\n",
       "| 8     | 205.23       |\n",
       "+-------+--------------+\n",
       "| 9     | 200.5        |\n",
       "+-------+--------------+\n",
       "9 rows in set (0.16 sec)"
      ]
     },
     "execution_count": 34,
     "metadata": {},
     "output_type": "execute_result"
    }
   ],
   "source": [
    "SELECT EXTRACT(MONTH FROM purchases.date) AS month, ROUND((SUM(price::decimal)/COUNT(DISTINCT purchases.id)),2) AS avg_purchase\n",
    "FROM tickets\n",
    "  JOIN purchases\n",
    "    ON purchases.id = tickets.purchase_id\n",
    "GROUP BY month;"
   ]
  },
  {
   "cell_type": "markdown",
   "id": "c98dc4a5-1dba-49bd-b2f6-5430158693b4",
   "metadata": {},
   "source": [
    "## Conclusion"
   ]
  },
  {
   "cell_type": "markdown",
   "id": "3a5cda4a-c623-427c-9f53-04505f89ea4b",
   "metadata": {},
   "source": [
    "Looking at the analysis above, the festival organizers will need to ensure that they are not overselling tickets for the AMD venue since overcrowding may result in decrease of attendee's enjoyment of the performance. FRom the analysis we have concluded that Preservation Hall Jazz Band and The Del McCoury Band and Vista Equity had the highest revenue, while the band WAX is the least profitable. The organizers can consider tracking attendee's enjoyment of each performance, in a way that makes it possible to ask which bands/venues are the most popular."
   ]
  },
  {
   "cell_type": "code",
   "execution_count": null,
   "id": "f5beae73-5310-44ba-93a4-43fac0cb4049",
   "metadata": {},
   "outputs": [],
   "source": []
  }
 ],
 "metadata": {
  "kernelspec": {
   "display_name": "xsql",
   "language": "sqlite",
   "name": "xsql"
  },
  "language_info": {
   "codemirror_mode": "sql",
   "file_extension": "",
   "mimetype": "",
   "name": "mysql",
   "version": "0.1.5"
  }
 },
 "nbformat": 4,
 "nbformat_minor": 5
}
