{
 "cells": [
  {
   "cell_type": "code",
   "execution_count": 1,
   "id": "89ba7fa9-cfb7-498f-8bdf-b0b87498a8f8",
   "metadata": {},
   "outputs": [],
   "source": [
    "import psycopg2\n",
    "conn = psycopg2.connect(host='localhost', dbname='class_music_festival')\n"
   ]
  },
  {
   "cell_type": "code",
   "execution_count": 2,
   "id": "f5ef0d1e-e28e-402b-a2dd-5651b573de81",
   "metadata": {},
   "outputs": [],
   "source": [
    "with psycopg2.connect(host='localhost', dbname='class_music_festival') as conn:\n",
    "    with conn.cursor() as cursor:\n",
    "        with open('bands.csv') as f:\n",
    "            cursor.copy_expert('COPY bands FROM STDIN WITH HEADER CSV', f)\n",
    "        with open('people.csv') as f:\n",
    "            cursor.copy_expert('COPY people FROM STDIN WITH HEADER CSV', f)\n",
    "        with open('venues.csv') as f:\n",
    "            cursor.copy_expert('COPY venues FROM STDIN WITH HEADER CSV', f)\n",
    "        with open('performances.csv') as f:\n",
    "            cursor.copy_expert('COPY performances FROM STDIN WITH HEADER CSV', f)\n",
    "        with open('tickets.csv') as f:\n",
    "            cursor.copy_expert('COPY tickets FROM STDIN WITH HEADER CSV', f)\n",
    "        with open('purchases.csv') as f:\n",
    "            cursor.copy_expert('COPY purchases FROM STDIN WITH HEADER CSV', f)"
   ]
  },
  {
   "cell_type": "code",
   "execution_count": null,
   "id": "95504d47-5068-4b84-ac29-3d5e56ad6fd6",
   "metadata": {},
   "outputs": [],
   "source": []
  }
 ],
 "metadata": {
  "kernelspec": {
   "display_name": "Python 3 (ipykernel)",
   "language": "python",
   "name": "python3"
  },
  "language_info": {
   "codemirror_mode": {
    "name": "ipython",
    "version": 3
   },
   "file_extension": ".py",
   "mimetype": "text/x-python",
   "name": "python",
   "nbconvert_exporter": "python",
   "pygments_lexer": "ipython3",
   "version": "3.7.12"
  }
 },
 "nbformat": 4,
 "nbformat_minor": 5
}
